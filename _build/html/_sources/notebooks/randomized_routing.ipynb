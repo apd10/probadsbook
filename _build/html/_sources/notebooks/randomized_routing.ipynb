{
  "nbformat": 4,
  "nbformat_minor": 0,
  "metadata": {
    "colab": {
      "name": "Lec22.ipynb",
      "provenance": [],
      "collapsed_sections": []
    },
    "kernelspec": {
      "name": "python3",
      "display_name": "Python 3"
    },
    "widgets": {
      "application/vnd.jupyter.widget-state+json": {
        "1b65278adb5848958287ee58ec1f4550": {
          "model_module": "@jupyter-widgets/controls",
          "model_name": "VBoxModel",
          "state": {
            "_view_name": "VBoxView",
            "_dom_classes": [
              "widget-interact"
            ],
            "_model_name": "VBoxModel",
            "_view_module": "@jupyter-widgets/controls",
            "_model_module_version": "1.5.0",
            "_view_count": null,
            "_view_module_version": "1.5.0",
            "box_style": "",
            "layout": "IPY_MODEL_f05854be88c7437588e5ff34773a78d2",
            "_model_module": "@jupyter-widgets/controls",
            "children": [
              "IPY_MODEL_eeef52356cbf46a28f6e860ddd2cd302",
              "IPY_MODEL_afd05ff3aff64d82a33aecd0d30b71c9",
              "IPY_MODEL_c8ff54bf621c43088e006c92751ba1c3"
            ]
          }
        },
        "f05854be88c7437588e5ff34773a78d2": {
          "model_module": "@jupyter-widgets/base",
          "model_name": "LayoutModel",
          "state": {
            "_view_name": "LayoutView",
            "grid_template_rows": null,
            "right": null,
            "justify_content": null,
            "_view_module": "@jupyter-widgets/base",
            "overflow": null,
            "_model_module_version": "1.2.0",
            "_view_count": null,
            "flex_flow": null,
            "width": null,
            "min_width": null,
            "border": null,
            "align_items": null,
            "bottom": null,
            "_model_module": "@jupyter-widgets/base",
            "top": null,
            "grid_column": null,
            "overflow_y": null,
            "overflow_x": null,
            "grid_auto_flow": null,
            "grid_area": null,
            "grid_template_columns": null,
            "flex": null,
            "_model_name": "LayoutModel",
            "justify_items": null,
            "grid_row": null,
            "max_height": null,
            "align_content": null,
            "visibility": null,
            "align_self": null,
            "height": null,
            "min_height": null,
            "padding": null,
            "grid_auto_rows": null,
            "grid_gap": null,
            "max_width": null,
            "order": null,
            "_view_module_version": "1.2.0",
            "grid_template_areas": null,
            "object_position": null,
            "object_fit": null,
            "grid_auto_columns": null,
            "margin": null,
            "display": null,
            "left": null
          }
        },
        "eeef52356cbf46a28f6e860ddd2cd302": {
          "model_module": "@jupyter-widgets/controls",
          "model_name": "IntSliderModel",
          "state": {
            "_view_name": "IntSliderView",
            "style": "IPY_MODEL_56ff66dece47402ca97aa6485e9e0eef",
            "_dom_classes": [],
            "description": "n",
            "step": 1,
            "_model_name": "IntSliderModel",
            "orientation": "horizontal",
            "max": 18,
            "_view_module": "@jupyter-widgets/controls",
            "_model_module_version": "1.5.0",
            "value": 10,
            "_view_count": null,
            "disabled": false,
            "_view_module_version": "1.5.0",
            "min": 0,
            "continuous_update": true,
            "readout_format": "d",
            "description_tooltip": null,
            "readout": true,
            "_model_module": "@jupyter-widgets/controls",
            "layout": "IPY_MODEL_1ca632eae9bb4c1d89e0799711f5445f"
          }
        },
        "afd05ff3aff64d82a33aecd0d30b71c9": {
          "model_module": "@jupyter-widgets/controls",
          "model_name": "ButtonModel",
          "state": {
            "_view_name": "ButtonView",
            "style": "IPY_MODEL_0d6f9b7cba684c2d99fbb76d30c62036",
            "_dom_classes": [],
            "description": "Run Interact",
            "_model_name": "ButtonModel",
            "button_style": "",
            "_view_module": "@jupyter-widgets/controls",
            "_model_module_version": "1.5.0",
            "tooltip": "",
            "_view_count": null,
            "disabled": false,
            "_view_module_version": "1.5.0",
            "layout": "IPY_MODEL_59fe7559ee8a4c4b9f8aa08cc6e24ee8",
            "_model_module": "@jupyter-widgets/controls",
            "icon": ""
          }
        },
        "c8ff54bf621c43088e006c92751ba1c3": {
          "model_module": "@jupyter-widgets/output",
          "model_name": "OutputModel",
          "state": {
            "_view_name": "OutputView",
            "msg_id": "",
            "_dom_classes": [],
            "_model_name": "OutputModel",
            "outputs": [
              {
                "output_type": "stream",
                "metadata": {
                  "tags": []
                },
                "text": "Number of Nodes: 1024\nRunning Bitfixing direcly ...\nsteps:  21\nRunning Bitfixing on starts->random\nsteps:  11\nRunning Bitfixing on random->dest\nsteps:  11\n--------------comparison ---------------------\nNo. of steps with Direct: 21\nNo. of steps with Randomized intermediate: 22\n",
                "stream": "stdout"
              }
            ],
            "_view_module": "@jupyter-widgets/output",
            "_model_module_version": "1.0.0",
            "_view_count": null,
            "_view_module_version": "1.0.0",
            "layout": "IPY_MODEL_20b51444ec7e4781b55c41933935ec24",
            "_model_module": "@jupyter-widgets/output"
          }
        },
        "56ff66dece47402ca97aa6485e9e0eef": {
          "model_module": "@jupyter-widgets/controls",
          "model_name": "SliderStyleModel",
          "state": {
            "_view_name": "StyleView",
            "handle_color": null,
            "_model_name": "SliderStyleModel",
            "description_width": "",
            "_view_module": "@jupyter-widgets/base",
            "_model_module_version": "1.5.0",
            "_view_count": null,
            "_view_module_version": "1.2.0",
            "_model_module": "@jupyter-widgets/controls"
          }
        },
        "1ca632eae9bb4c1d89e0799711f5445f": {
          "model_module": "@jupyter-widgets/base",
          "model_name": "LayoutModel",
          "state": {
            "_view_name": "LayoutView",
            "grid_template_rows": null,
            "right": null,
            "justify_content": null,
            "_view_module": "@jupyter-widgets/base",
            "overflow": null,
            "_model_module_version": "1.2.0",
            "_view_count": null,
            "flex_flow": null,
            "width": null,
            "min_width": null,
            "border": null,
            "align_items": null,
            "bottom": null,
            "_model_module": "@jupyter-widgets/base",
            "top": null,
            "grid_column": null,
            "overflow_y": null,
            "overflow_x": null,
            "grid_auto_flow": null,
            "grid_area": null,
            "grid_template_columns": null,
            "flex": null,
            "_model_name": "LayoutModel",
            "justify_items": null,
            "grid_row": null,
            "max_height": null,
            "align_content": null,
            "visibility": null,
            "align_self": null,
            "height": null,
            "min_height": null,
            "padding": null,
            "grid_auto_rows": null,
            "grid_gap": null,
            "max_width": null,
            "order": null,
            "_view_module_version": "1.2.0",
            "grid_template_areas": null,
            "object_position": null,
            "object_fit": null,
            "grid_auto_columns": null,
            "margin": null,
            "display": null,
            "left": null
          }
        },
        "0d6f9b7cba684c2d99fbb76d30c62036": {
          "model_module": "@jupyter-widgets/controls",
          "model_name": "ButtonStyleModel",
          "state": {
            "_view_name": "StyleView",
            "_model_name": "ButtonStyleModel",
            "_view_module": "@jupyter-widgets/base",
            "_model_module_version": "1.5.0",
            "_view_count": null,
            "button_color": null,
            "font_weight": "",
            "_view_module_version": "1.2.0",
            "_model_module": "@jupyter-widgets/controls"
          }
        },
        "59fe7559ee8a4c4b9f8aa08cc6e24ee8": {
          "model_module": "@jupyter-widgets/base",
          "model_name": "LayoutModel",
          "state": {
            "_view_name": "LayoutView",
            "grid_template_rows": null,
            "right": null,
            "justify_content": null,
            "_view_module": "@jupyter-widgets/base",
            "overflow": null,
            "_model_module_version": "1.2.0",
            "_view_count": null,
            "flex_flow": null,
            "width": null,
            "min_width": null,
            "border": null,
            "align_items": null,
            "bottom": null,
            "_model_module": "@jupyter-widgets/base",
            "top": null,
            "grid_column": null,
            "overflow_y": null,
            "overflow_x": null,
            "grid_auto_flow": null,
            "grid_area": null,
            "grid_template_columns": null,
            "flex": null,
            "_model_name": "LayoutModel",
            "justify_items": null,
            "grid_row": null,
            "max_height": null,
            "align_content": null,
            "visibility": null,
            "align_self": null,
            "height": null,
            "min_height": null,
            "padding": null,
            "grid_auto_rows": null,
            "grid_gap": null,
            "max_width": null,
            "order": null,
            "_view_module_version": "1.2.0",
            "grid_template_areas": null,
            "object_position": null,
            "object_fit": null,
            "grid_auto_columns": null,
            "margin": null,
            "display": null,
            "left": null
          }
        },
        "20b51444ec7e4781b55c41933935ec24": {
          "model_module": "@jupyter-widgets/base",
          "model_name": "LayoutModel",
          "state": {
            "_view_name": "LayoutView",
            "grid_template_rows": null,
            "right": null,
            "justify_content": null,
            "_view_module": "@jupyter-widgets/base",
            "overflow": null,
            "_model_module_version": "1.2.0",
            "_view_count": null,
            "flex_flow": null,
            "width": null,
            "min_width": null,
            "border": null,
            "align_items": null,
            "bottom": null,
            "_model_module": "@jupyter-widgets/base",
            "top": null,
            "grid_column": null,
            "overflow_y": null,
            "overflow_x": null,
            "grid_auto_flow": null,
            "grid_area": null,
            "grid_template_columns": null,
            "flex": null,
            "_model_name": "LayoutModel",
            "justify_items": null,
            "grid_row": null,
            "max_height": null,
            "align_content": null,
            "visibility": null,
            "align_self": null,
            "height": null,
            "min_height": null,
            "padding": null,
            "grid_auto_rows": null,
            "grid_gap": null,
            "max_width": null,
            "order": null,
            "_view_module_version": "1.2.0",
            "grid_template_areas": null,
            "object_position": null,
            "object_fit": null,
            "grid_auto_columns": null,
            "margin": null,
            "display": null,
            "left": null
          }
        }
      }
    }
  },
  "cells": [
    {
      "cell_type": "markdown",
      "metadata": {
        "id": "q0xRHbA4hhr7"
      },
      "source": [
        "# **Randomized Routing** #\n",
        "## Introduction \n",
        "  Traditionally, algorithms have been designed to improve/bound the worst case performance on a problem. Such algorithms draw deep insights into the problem and carefully design and use datastructures. On the other hand, there are simpler algorithms which work very well on an average input while performing much worse on smaller number of bad inputs. QuickSort is a classic example of such an algorithm for sorting. While MergeSort has worst case complexity of $O(nlogn)$, QuickSort performs $O(nlogn)$ on random input and can perform upto $O(n^2)$ on *bad* inputs. On average inputs, QuickSort is *quicker* than MergeSort with lesser memory requirement, inplace operations and, hence, better cache utilization ([see link](https://www.geeksforgeeks.org/quicksort-better-mergesort/)). Can the issue of *bad* inputs be solved to avoid worst case performance? As it turns out, the answer to *almost* solving the problem is Randomization. *Bad* inputs for QuickSort turn out to be ones when the elements are already ordered. So what if we randomly shuffle the array before running QuickSort? A simple trick like this would actually resolve the issue of bad inputs. In implementation, [Randomized QuickSort](https://en.wikipedia.org/wiki/Quicksort) randomly partitions the array (by choosing random pivot) and has an expected complexity (over random pivots) of $O(nlogn)$ for **any input**. Though worst case is still $O(n^2)$, note that for this algorithm, there are no *bad* inputs; only bad pivot choices.\n",
        "\n",
        "  As a general principle, we can utilize simpler algorithms which work well on an *average / random / uniform* inputs to solve the original problem with no restrictions on inputs. Randomized routing is another classic example. Here, we utilize an algorithm that is already good when the input is uniformly distributed. To make this algorithm work for generic input, all we require is clever randomization that tranforms the problem on any given input to (multiple) instances of the same problem with random input.\n",
        "\n",
        "In this lecture, we study the problem of routing messages in distributed computation. In distributed computing, the idea is to distribute computation to different nodes on cluster and consolidate individual outputs to achieve original computation. In the process, messages have to be passed among nodes on the cluster. If the traffic on the cluster is large (i.e. there is congestion), there can be significant delays in message passing and will cause the overall computation to take longer. The task is to minimize the delays caused by congestion. We show how randomization helps in reducing the congestion delays. For simplicity of analysis, we assume Grid network architecture and permutation messaging paradigm of communication. However, the general usage of randomization in routing goes beyond these simplistic assumptions. "
      ]
    },
    {
      "cell_type": "markdown",
      "metadata": {
        "id": "z6hgTKxphxOi"
      },
      "source": [
        "## Grid/Hypercube Architecture \n",
        "In very large clusters, every node cannot be connected to every other node. In such a case, nodes are connected to few other nodes and when a message has to be passed from one node to other, it has to determine a path to traverse. We consider a specific arrangement of nodes called grid model. Consider that we have $N=2^n$ nodes in our graph. We identify each of the nodes with binary strings. We would need $log_2(N)=n$ bits to identify N different nodes. In grid model, the two nodes are connected only if they have hamming distance exactly 1; i.e. their binary string ids have only one bit mismatch. So each node hash a out degree equal to number of bits in its representation , i.e. n. The message can be passed in any direction. Hence total degree is 2n. We can see that the total number of directed edges in the graph view of Grid model is nN . In figure 1 a grid model for N=8 is shown.\n",
        "\n",
        "![HyperCube Structure](https://drive.google.com/uc?id=1IrkAr6Go4VseRH3gYB7pYlYlzVx_uB7g)\n",
        "\n",
        "\n",
        "\n"
      ]
    },
    {
      "cell_type": "markdown",
      "metadata": {
        "id": "9IYT93s5kEI-"
      },
      "source": [
        "## Routing Problem \n",
        "In this problem, we assume that each link can carry only one message at a time. Hence whenever two or more messages arrive at a link, a queue is formed which is processed squentially, i.e., one at a time. This adds delay to the overall all-to-all communication step. The purpose of any good algorithm is to minimize the delay. This is a load balancing problem in disguise: we want to make sure no link receives overwhelmingly large load. \n",
        "\n",
        "However network routing is extemetly memory constrained. Generally, any network message or packets on have few bits reserved for routing. Essentially, we cannot store any history of the packet traversal. We only have the destination information on each packet. As a result, it is impertative that the routing protocol is memoryless. More specifically, if a packet arrives at any node, just on the basis of its destination, we should be able to determine the next hop (or node) of this packet. This requirement rules out a lot of optimal algorithms. It turns out that there is a simple and clever strtegy, which is memoryless and ensures that no link is travered by the packet twice. \n",
        "\n",
        "## Bit fixing Algorithm \n",
        "\n",
        "**One-One message passing** : The algorithm can be described in one line: Given the destination of packet *dest* the currect location *curr*, send the packet to the node *next* with all bits same as *curr* except we flip the least significant bit of *curr* which is different from *dest*.  Before delving into the actual problem, its always advisable to look at simpler version of the problem to understand its properties. Lets look at the problem in which we want to pass a message from *start* to *dest* node. *start* and *dest* are bit string identifiers of the nodes respectively. We first present the algorithm and then discuss the properties of this algorithm.\n"
      ]
    },
    {
      "cell_type": "markdown",
      "metadata": {
        "id": "y1Sj9rxwkERq"
      },
      "source": [
        "\n",
        "**Bit Fixing Algorithm (BFA)**\n",
        "```\n",
        "Inputs: start , destination\n",
        "Output : Path from start to destination\n",
        "Algorithm:\n",
        "    current = start\n",
        "    path = [start]\n",
        "    while current != destination:\n",
        "        lbit = lowestMismatch(current, destination)\n",
        "        next = current\n",
        "        next[lbit] = destination[lbit]\n",
        "        path.add(next)\n",
        "        current = next\n",
        "    path.add(destination)\n",
        "    return path\n",
        "        \n",
        "```\n",
        "A sample run of the algorithm is shown in the following figure, where the start=11011 and destination=10101. At each step the first mismatch in bits is underlined.\n",
        "\n",
        "<img src=\"https://drive.google.com/uc?id=1b9LDbzHUqMQ7AK-EwnCrg9n79d8O22dB\" width=\"300\" class=\"center\">\n"
      ]
    },
    {
      "cell_type": "markdown",
      "metadata": {
        "id": "RjnYr7o8kEUu"
      },
      "source": [
        "\n",
        "*    **Bit Fixing Algorithm gives shortest path** Path suggested by BFA always has length exactly equal to the number mismatches in the bit representation of *start* and *dest*. Also, we know that each edge joins two nodes that have exactly 1 bit different. Hence length of possible paths have to be greator than or equal to the number of mismatches in *start* and *dest* and BFA outputs the least of them\n",
        "\n",
        "*    **Bit fixing Algorithm is memory-less** In order to compute the link on which to send to message, at each step, the algorithm only requires destination address and its own current address (which it knows). So it satisfies the requirement of memory-less we defined above.\n",
        "*    **Bit fixing Algorithm has optimal substructure property** If you consider the any sub path (say $node_i$ to $node_j$) of the path BFA outputs for (start, dest) is exactly the path it would output for $start=node_i$ and $dest=node_j$. So in the BFA, there is exactly one path between any two nodes, irrespective of what the start, dest nodes are. \n",
        "*    **Identity of path nodes**  While going from start $(S_1,S_2,\\ldots,S_n)$ to dest $(D_1, D_2, \\ldots D_n)$, every intermediate node has the bit string representation $(D_1, D_2, \\ldots D_i, S_{i+1}, \\ldots S_n)$ And with each progressing step the prefix of intermediate node matching with destination only grows longer. This also establishes that there are no cycles in the path.\n",
        "*    **Path interaction** The above properties also add restrictions to the interactions of two paths say (s1,d1) and (s2,d2) can have. Specifically, the paths can join each other at at most 1 node and continue on that path till they diverge. They cannot diverge and join each other again. We will use this property in our analysis for randomized routing. This is clearly shown in the following figure\n",
        "\n",
        "\n",
        "<img src=\"https://drive.google.com/uc?id=1wJgBfqjDibm1t09vk2B-DWOqFIy8LVA5\" width=\"800\" class=\"center\">\n",
        "\n"
      ]
    },
    {
      "cell_type": "markdown",
      "metadata": {
        "id": "8PQiQo7RkEYP"
      },
      "source": [
        "## Permutation Routing \n",
        "Now lets look at all-to-all routing. This scheme is also called as permutation routing. For the sequence of start nodes $starts = [1 \\ldots N]$, we can specify the destination nodes as a permutation of the start sequence $dests = Perm([1\\ldots N])$. We have to pass the message from $starts[i]$ to $dests[i]$ for each i. The following theorem gives an idea of how well a deterministic algorithm can perform. \n",
        "\n",
        "\n",
        "> **Theorem 1:** Any (memory) oblivious deterministic algorithm for permutation routing with N machines and n ($\\approx log N$) outward links require $\\Omega(\\sqrt{\\frac{N}{n}})$ steps\n",
        "\n",
        "This theorem basically requires us to look for solutions beyond the deterministic realm of algorithms. We will see that the results with the randomized routing will help us break this bound at least probabilistically.\n",
        "\n",
        "### Randomized Routing \n",
        "We will use bitfixing algorithm as a basic routing algorithm. If we were to run bitfixing algorithm on permutation routing problem , how would we expect the algorithm to fare? It is very obvious that an adversarial selection of permutation of starts can cause a lot of delays in routing. However, we would expect the delays to be bounded if the permutation was random. Before moving to the final algorithm, lets evaluate if our intuition is correct. The following theorem, in fact, confirms our conjecture that the basic algorithm for each pair of start and dest nodes already performs very well if the dest is a random permutation.\n",
        "\n",
        "> **Theorem 2:** If dests is random permutation of starts, then with probability $(1 - (\\frac{1}{2})^{1.5n})$ message from starts[i] reaches the dests[i], for all i, in no more than 4n steps\n",
        "\n",
        "### Solution to general (starts, dests): \n",
        "So from the above theorem, it is clear that our intuition about random destinations is actually correct. We can use this to bound the time of any permutation routing problem. This can be done by adding a random intermediate destination between *starts* and *dests* locations. \n",
        "\n",
        "> starts $\\longrightarrow$  dests \n",
        "\n",
        "The above problem can be converted to the following and we use bitfixing algorithm for both the sections of the problem.\n",
        "\n",
        "> starts $\\longrightarrow$ random $\\longrightarrow$ dests\n",
        "\n",
        "Using the theorem 2, we can say that with high probability the total time taken by the routing algorithm is bounded by 8n.\n",
        "\n",
        "## General Insight\n",
        "It turns out that many algorithms, especially associated with graphs, have this property. When an algorithm is run on a uniformly sampled input (random), the algorithm has good running time with high probability. However, in general, there are many structured inputs, which can very well occur in practice; the performance is terrible. We can make such algorithms work for generic inputs by somehow converting the problem where we only run the algorithm over random inputs and still solve for any given (potentially structured and poorly performing) inputs. The conversion is dependent on the problem. For routing, by enforcing a random permutation of intermediate destinations, we were able to break the original problem with any given source-destination sequence to two problems where either the source or the destination is uniformly shuffled. \n",
        "\n",
        "The classic example is Quicksort \u0007, which takes $O(n^2)$ \u0002time in the worst case, but when randomized takes $O(n\\log{n})$ expected time \u0007and the running time depends only on the coin tosses \u0007, not on the input. \u0002\u0006Notice that randomized quick sort always leads to the correct output (Las Vegas Algorithms (https://en.wikipedia.org/wiki/Las_Vegas_algorithm))\n",
        "\n",
        "A good lecture note with more such illustration can be found at \n",
        "http://math.mit.edu/~goemans/notes-random.pdf"
      ]
    },
    {
      "cell_type": "markdown",
      "metadata": {
        "id": "7kicbRj1W5hn"
      },
      "source": [
        "## Code\n",
        "In this section, we give a basic delay simulator for routing over hypercube. We encourage the readers to play around with the value of n and different permutations to see how randomized routing successfully breaks the congestion. We also show one way to generate permutation that leads to congestion which is inspired from the constructive proof of Simplified Theorem 1 in Theory Section.\n",
        "\n",
        "\n",
        "\n",
        "## Simulation Code\n",
        "each edge has a queue and at each time step only one message can cross over that edge."
      ]
    },
    {
      "cell_type": "code",
      "metadata": {
        "id": "ifu2xZ-0XkKP"
      },
      "source": [
        "# Simulation code\n",
        "from collections import deque\n",
        "import numpy as np\n",
        "def codearray(ar, n):\n",
        "    return [codenode(s, n) for s in ar]\n",
        "\n",
        "def codenode(start,n):\n",
        "    s = bin(start)[2:]\n",
        "    s = '0'*(n-len(s))+s\n",
        "    return s\n",
        "\n",
        "def linkid(s,d,i,n):\n",
        "    N = pow(2, n)\n",
        "    start = int(s, 2)\n",
        "    dest = int(d, 2)\n",
        "    val = min(start, dest)\n",
        "    return val * n + i\n",
        "\n",
        "def decode(l, n):\n",
        "    start = l // n\n",
        "    i = l % n\n",
        "    return codenode(start,n), i\n",
        "\n",
        "\n",
        "def bit_fixing_links(start, dest, n):\n",
        "    N = pow(2,n)\n",
        "    s = codenode(start, n)\n",
        "    d = codenode(dest, n)\n",
        "    links = []\n",
        "    for i in range(len(s)):\n",
        "        if s[i] == d[i]:\n",
        "            continue\n",
        "        #print(d[:i]+s[i:], \"->\", d[:i+1]+s[i+1:])\n",
        "        links.append(linkid(d[:i]+s[i:],d[:i+1]+s[i+1:],i,n))\n",
        "    return links\n",
        "\n",
        "\n",
        "def simulate(dests, n): #starts = 0,1,..2^n-1\n",
        "    N = pow(2, n)\n",
        "    node_links = {}\n",
        "    # init node_links node-> set of links\n",
        "    for i in range(N):\n",
        "        start = i\n",
        "        dest = dests[i]\n",
        "        node_links[start] = deque(bit_fixing_links(start, dest, n)) \n",
        "    # init link_queues  link -> waiting messages\n",
        "    link_queues = {}\n",
        "    for i in range(N*n):\n",
        "        link_queues[i] = deque()\n",
        "\n",
        "    # put first step onto links\n",
        "    for i in range(N):\n",
        "        if len(node_links[i]) >0:\n",
        "            link_queues[node_links[i].popleft()].append(i)\n",
        "    queues_empty = False\n",
        "    time = 0\n",
        "    while not queues_empty:\n",
        "        queues_empty = True\n",
        "        nodes = []\n",
        "        # one message per link\n",
        "        for i in range(N*n):\n",
        "            if len(link_queues[i]) > 0:\n",
        "                node = link_queues[i].popleft()\n",
        "                nodes.append(node)\n",
        "                #print(\"Link\", decode(i, n), \"message\", codenode(node, n), node)\n",
        "        # process nodes\n",
        "        for i in nodes:\n",
        "            if len(node_links[i]) >0:\n",
        "                link_queues[node_links[i].popleft()].append(i)\n",
        "        # see if queues are empty\n",
        "        ct = 0\n",
        "        for i in range(N*n):\n",
        "            if len(link_queues[i]) > 0:\n",
        "                queues_empty = False\n",
        "                ct = ct + len(link_queues[i])\n",
        "\n",
        "        time = time + 1\n",
        "        #print(time, ct)\n",
        "    return time\n"
      ],
      "execution_count": null,
      "outputs": []
    },
    {
      "cell_type": "markdown",
      "metadata": {
        "id": "zM8m68jebxEG"
      },
      "source": [
        "\n",
        "\n",
        "```\n",
        "# This is formatted as code\n",
        "```\n",
        "\n",
        "#### Generating Permutation\n",
        "In order to generate a permutation that can cause good congestion. We map nodes of the form  0X to X0. where X is of length n/2 bits. Note that all the paths here have to pass through node labelled 0. For the rest of the nodes, we just map them to themselves."
      ]
    },
    {
      "cell_type": "code",
      "metadata": {
        "id": "-mGzv-s9Y1oB"
      },
      "source": [
        "# Generating cases for routing \n",
        "\n",
        "def get_random_perm(n): # random\n",
        "    N = pow(2, n)\n",
        "    a = np.arange(N)\n",
        "    np.random.shuffle(a)\n",
        "    return a\n",
        "\n",
        "def get_complementary_perm(n): # complementary X -> not(X)\n",
        "    N = pow(2, n)\n",
        "    a = np.arange(N)\n",
        "    a = [N -1 - i for i in a]\n",
        "    return a\n",
        "\n",
        "def get_congested_perm(n): # creates paths that have to pass through node 0 exploiting bit fixing algorithm\n",
        "    #assert(n%2==0)\n",
        "    nhalf1 = n//2\n",
        "    nhalf2 = n - n//2\n",
        "    N = pow(2, n)\n",
        "    Nhalf1 = pow(2, nhalf1)\n",
        "    Nhalf2 = pow(2, nhalf2)\n",
        "    a = np.arange(N)\n",
        "    for i in range(Nhalf1):\n",
        "      mapped_i = i*Nhalf2\n",
        "      a[i] = mapped_i\n",
        "      a[mapped_i] = i\n",
        "    return a\n"
      ],
      "execution_count": null,
      "outputs": []
    },
    {
      "cell_type": "markdown",
      "metadata": {
        "id": "Q7X0jyOac4OU"
      },
      "source": [
        "#### Wrapper for simluation with permutation defined above"
      ]
    },
    {
      "cell_type": "code",
      "metadata": {
        "id": "CW9OyVbXZMlr",
        "colab": {
          "base_uri": "https://localhost:8080/"
        },
        "outputId": "e4120ae8-4c6e-443b-bdc3-6b72793d9221"
      },
      "source": [
        "# wrapper for comparison of routing directly vs using randomized intermediate step.\n",
        "def simulate_delay_congested_paths(n):\n",
        "    N = pow(2, n)\n",
        "    print(\"Number of Nodes:\", N)\n",
        "    c = get_congested_perm(n)\n",
        "    r = get_random_perm(n)\n",
        "    print(\"Running Bitfixing direcly ...\")\n",
        "    dt = simulate(c, n)\n",
        "    print(\"steps: \", dt)\n",
        "    print(\"Running Bitfixing on starts->random\")\n",
        "    r1 = simulate(r, n)\n",
        "    print(\"steps: \", r1)\n",
        "    a = np.arange(N)\n",
        "    for i in range(N):\n",
        "        a[r[i]] = c[i]\n",
        "    print(\"Running Bitfixing on random->dest\")\n",
        "    r2 = simulate(a, n)\n",
        "    print(\"steps: \", r2)\n",
        "    print(\"--------------comparison ---------------------\")\n",
        "    print(\"No. of steps with Direct:\", dt)\n",
        "    print(\"No. of steps with Randomized intermediate:\",  r1+r2)\n",
        "    if n < 5:\n",
        "      print(codearray(np.arange(N), n))\n",
        "      print(codearray(c, n))\n",
        "\n",
        "\n",
        "simulate_delay_congested_paths(12)"
      ],
      "execution_count": null,
      "outputs": [
        {
          "output_type": "stream",
          "text": [
            "Number of Nodes: 4096\n",
            "Running Bitfixing direcly ...\n",
            "steps:  38\n",
            "Running Bitfixing on starts->random\n",
            "steps:  13\n",
            "Running Bitfixing on random->dest\n",
            "steps:  13\n",
            "--------------comparison ---------------------\n",
            "No. of steps with Direct: 38\n",
            "No. of steps with Randomized intermediate: 26\n"
          ],
          "name": "stdout"
        }
      ]
    },
    {
      "cell_type": "markdown",
      "metadata": {
        "id": "0-SakInCdQAK"
      },
      "source": [
        "## Play Around with n!\n",
        "As expected, the direct routing time increases exponentially with increasing n whereas the randomized routing only increases linearly"
      ]
    },
    {
      "cell_type": "code",
      "metadata": {
        "id": "8DBNFtLBakqY",
        "colab": {
          "base_uri": "https://localhost:8080/",
          "height": 251,
          "referenced_widgets": [
            "1b65278adb5848958287ee58ec1f4550",
            "f05854be88c7437588e5ff34773a78d2",
            "eeef52356cbf46a28f6e860ddd2cd302",
            "afd05ff3aff64d82a33aecd0d30b71c9",
            "c8ff54bf621c43088e006c92751ba1c3",
            "56ff66dece47402ca97aa6485e9e0eef",
            "1ca632eae9bb4c1d89e0799711f5445f",
            "0d6f9b7cba684c2d99fbb76d30c62036",
            "59fe7559ee8a4c4b9f8aa08cc6e24ee8",
            "20b51444ec7e4781b55c41933935ec24"
          ]
        },
        "outputId": "4ff16ab7-99ea-4e6d-b37e-f4def83a3ac8"
      },
      "source": [
        "from __future__ import print_function\n",
        "from ipywidgets import interact, interactive, fixed, interact_manual\n",
        "import ipywidgets as widgets\n",
        "\n",
        "interact_manual(simulate_delay_congested_paths, n=widgets.IntSlider(min=0, max=18, step=1, value=10)); # colab fails >=19 "
      ],
      "execution_count": null,
      "outputs": [
        {
          "output_type": "display_data",
          "data": {
            "application/vnd.jupyter.widget-view+json": {
              "model_id": "1b65278adb5848958287ee58ec1f4550",
              "version_minor": 0,
              "version_major": 2
            },
            "text/plain": [
              "interactive(children=(IntSlider(value=10, description='n', max=18), Button(description='Run Interact', style=B…"
            ]
          },
          "metadata": {
            "tags": []
          }
        }
      ]
    },
    {
      "cell_type": "markdown",
      "metadata": {
        "id": "yX60mYO7s_wK"
      },
      "source": [
        "## Theory\n",
        "\n",
        "Proof of Theorem 1\n",
        "\n",
        "\n",
        "see theorem 2.2 in \n",
        "[uscd scribe on randomized routing ](https://cseweb.ucsd.edu/~slovett/teaching/SP15-CSE190/randomized_routing.pdf)\n",
        "\n",
        "Proof of Theorem 2\n",
        "\n",
        "> **Theorem 2:** If dests is random permutation of starts, then with probability $(1 - (\\frac{1}{2})^{1.5n})$ message from starts[i] reaches the dests[i], for all i, in no more than 4n steps\n",
        "\n",
        "We will use the following notation\n",
        "\n",
        "* $Time[message[i]]$ : time taken by message from source i\n",
        "* $Path(i)$ : path taken by message from source i\n",
        "* $delay(i)$ : added delay due to congestion for message from source i\n",
        "* $Intersection(i,j)$ : proposition that path(i) and path(j) share an edge\n",
        "* $Intersections(i,j)$ : number of edges shared by path(i) and path(j)\n",
        "* $T(e)$ : number of nodes whose path share edge e\n",
        "* $length(path)$: number of edges in a path\n",
        "\n",
        "\n",
        "We can write the time taken by packet i as following. The \n",
        "$$ Time[message[i]] = length(Path(i)) + delay(i) \\leq n + delay(i)$$\n",
        "where delay is caused by different messages intersecting the path of this message from starts[i] to dests[i]. As defined in the problem above, the delay occurs only when two or more packets want to use the same link. Hence the paths of i and j must intersect for j to add to the delay for i. One important thing to note is that every packet can at most add a delay of 1 unit to the other packet. This is because a packet j can only \\textit{join} the path of i at one single point. This follows from the optimal substructure property of BFA . Also, while they are sharing the path, a delay is added only at the start of the shared path.  So we can write the intersection as an indicator.\n",
        "$$\n",
        "    delay_i \\leq \\sum_j \\mathbb{I}(Intersection(i,j))\n",
        "$$\n",
        "We can simplify the RHS of the above inequality by noting the following.\n",
        "$$\n",
        "    \\sum_j \\mathbb{I}(Intersection(i,j)) \\leq \\sum_{j} Intersections(i,j)\n",
        "$$\n",
        "Where we replace the indicator with number of intersections. Also, we can write the RHS of the above inequality in terms of sum over edges as \n",
        "\n",
        "$$\n",
        "    \\sum_j \\mathbb{I}(Intersection(i,j)) \\leq \\sum_{e \\in Path(i)} T(e)\n",
        "$$\n",
        "T(e) is the total number of nodes sharing the edge e with node i. Note that R.H.S is an overestimate as each Indicator is replaced by the number of edges shared between the two paths.\n",
        "Taking Expectation of $delay_i$, we have\n",
        "$$\n",
        "    E(delay_i) \\leq \\sum_{e \\in Path(i)} E(T(e))\n",
        "$$\n",
        "As, number of edges is bound by n,\n",
        "$$\n",
        "    E(delay_i) \\leq n E(T(e))\n",
        "$$\n",
        "in order to find the E(T(e)), consider the following equation counting T(e)\n",
        "$$\n",
        "    T(e) = \\sum_{j \\in [1,N]} (\\mathbb{I}( e \\in Path(j))\n",
        "$$\n",
        "$\n",
        "    \\sum_{e \\in allEdges} T(e) = \\sum_{e \\in allEdges} \\sum_{j \\in [1,N]}  (\\mathbb{I}( e \\in Path(j)) $\n",
        "\n",
        "$ \\sum_{e \\in allEdges} T(e)  = \\sum_{j \\in [1,N]} \\sum_{e \\in allEdges}  (\\mathbb{I}( e \\in Path(j))$\n",
        "\n",
        "$ \\sum_{e \\in allEdges} T(e)  = \\sum_{j \\in [1,N]} (length(Path(j))) $\n",
        "    \n",
        "Taking expectation\n",
        "$$ E(\\sum_{e \\in allEdges} T(e)) = \\sum_{j \\in [1,N]} E(length(Path(j)))$$\n",
        "$$ Nn E(T(e)) = N \\frac{n}{2} $$\n",
        "$$ E(T(e)) = \\frac{1}{2}$$\n",
        "\n",
        "Hence expectation of the delay is \n",
        "$$ E(delay_i) \\leq \\frac{n}{2}$$\n",
        "\n",
        "As $delay_i$ is a sum of independent bernoulli variables, we can use chernoff bounds to obtain the tail bound.\n",
        "\n",
        "$$\n",
        "    P( delay_i \\geq (1+\\delta) \\mu)) \\leq e^{-(\\frac{\\delta^2\\mu}{2+\\delta})}\n",
        "$$\n",
        "\n",
        "where $\\mu \\leq \\frac{n}{2} $\n",
        "Now we want to choose $\\delta$ in a way that rest of the analysis follows, specifically, we want the probability on the right to be small enough to give a good tail bound after we apply the union bound. Lets aim for now to keep the probability on right bounded by $\\frac{1}{N^{2.5}}$ \n",
        "$$ e^{-(\\frac{\\delta^2\\mu}{2+\\delta})} \\leq \\frac{1}{N^{2.5}} $$\n",
        "\n",
        "$$ -log_2(e)(\\frac{\\delta^2\\mu}{2+\\delta}) \\leq - 2.5 log_2(N) $$\n",
        "\n",
        "$$ log_2(e)(\\frac{\\delta^2\\mu}{2+\\delta}) \\geq 2.5 n \\geq 2.5 * 2 \\mu $$\n",
        "\n",
        "$$ log_2(e)(\\frac{\\delta^2}{2+\\delta}) \\geq 5 $$\n",
        "  \n",
        "By substituting $\\delta = 5$ we can see that the equation above is satisfied.\n",
        "Hence we have, \n",
        "$$ P( delay_i \\geq 6 \\mu)) \\leq \\frac{1}{N^{2.5}} $$\n",
        "\n",
        "$$ P( delay_i \\geq 3n)) \\leq \\frac{1}{N^{2.5}} $$\n",
        "\n",
        "Applying union bound over all the nodes, we get\n",
        "$$ P( \\exists i \\quad delay_i \\geq 3n)) \\leq \\frac{1}{N^{1.5}} $$\n",
        "\n",
        "Hence the total time according to equation 1, is bounded by\n",
        "$$ P( TotalTime \\geq 4n)) \\leq \\frac{1}{N^{1.5}} $$\n",
        "Hence with probability $1 - \\frac{1}{N^{1.5}} ( = 1 - (\\frac{1}{2})^{1.5n})$, the total time taken is no more than 4n \\\\\n",
        "That completes our proof."
      ]
    }
  ]
}